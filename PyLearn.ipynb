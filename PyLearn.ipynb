{
 "cells": [
  {
   "attachments": {},
   "cell_type": "markdown",
   "metadata": {},
   "source": [
    "<h4>Transformasi Angka, karakter, dan string</h4>"
   ]
  },
  {
   "cell_type": "code",
   "execution_count": 1,
   "metadata": {},
   "outputs": [
    {
     "name": "stdout",
     "output_type": "stream",
     "text": [
      "ABDAN\n",
      "abdan\n"
     ]
    }
   ],
   "source": [
    "#Ubah huruf besar/kecil\n",
    "#upper() lower()\n",
    "kata = 'abdan'\n",
    "kata = kata.upper()\n",
    "print(kata)\n",
    "\n",
    "kapital = 'ABDAN'\n",
    "kapital = kapital.lower()\n",
    "print(kapital)"
   ]
  },
  {
   "attachments": {},
   "cell_type": "markdown",
   "metadata": {},
   "source": [
    "Catatan: Jika terdapat karakter bukan huruf (seperti simbol atau angka) yang tidak memiliki opsi kapital, maka karakter tersebut tidak diubah."
   ]
  }
 ],
 "metadata": {
  "kernelspec": {
   "display_name": "Python 3",
   "language": "python",
   "name": "python3"
  },
  "language_info": {
   "codemirror_mode": {
    "name": "ipython",
    "version": 3
   },
   "file_extension": ".py",
   "mimetype": "text/x-python",
   "name": "python",
   "nbconvert_exporter": "python",
   "pygments_lexer": "ipython3",
   "version": "3.11.1"
  },
  "orig_nbformat": 4,
  "vscode": {
   "interpreter": {
    "hash": "7e4bee66c5ca8455ad15c6421c8af1e83740e05b79d56af47c2772002f896ed6"
   }
  }
 },
 "nbformat": 4,
 "nbformat_minor": 2
}
